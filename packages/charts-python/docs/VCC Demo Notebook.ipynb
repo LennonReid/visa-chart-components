{
 "cells": [
  {
   "cell_type": "code",
   "execution_count": null,
   "id": "ffe6db05",
   "metadata": {},
   "outputs": [],
   "source": [
    "# /**\n",
    "# * Copyright (c) 2022 Visa, Inc.\n",
    "# *\n",
    "# * This source code is licensed under the MIT license\n",
    "# * https://github.com/visa/visa-chart-components/blob/master/LICENSE\n",
    "# *\n",
    "# **/\n",
    "\n",
    "# See our Storybook for more recipes\n",
    "# https://visa.github.io/visa-chart-components/"
   ]
  },
  {
   "cell_type": "code",
   "execution_count": null,
   "id": "32d07a37",
   "metadata": {},
   "outputs": [],
   "source": [
    "import pyvisacharts as vcc\n",
    "import pandas as pd\n",
    "\n",
    "vcc.__version__"
   ]
  },
  {
   "cell_type": "code",
   "execution_count": null,
   "id": "36c80670",
   "metadata": {},
   "outputs": [],
   "source": [
    "bar_chart_data = pd.read_json(\"./demo_data/bar_chart_data.json\")\n",
    "clustered_bar_chart_data = pd.read_json(\"./demo_data/clustered_bar_chart_data.json\")\n",
    "stacked_bar_chart_data = pd.read_json(\"./demo_data/stacked_bar_chart_data.json\")\n",
    "line_chart_data = pd.read_json(\"./demo_data/line_chart_data.json\")\n",
    "scatter_plot_data = pd.read_json(\"./demo_data/scatter_plot_data.json\")\n",
    "heat_map_data = pd.read_json(\"./demo_data/heat_map_data.json\")\n",
    "circle_packing_data = pd.read_json(\"./demo_data/circle_packing_data.json\")\n",
    "parallel_plot_data = pd.read_json(\"./demo_data/parallel_plot_data.json\")\n",
    "dumbbell_plot_data = pd.read_json(\"./demo_data/dumbbell_plot_data.json\")\n",
    "world_map_data = pd.read_json(\"./demo_data/world_map_data.json\", dtype={\"Country Code\": pd.StringDtype})\n",
    "alluvial_diagram_data = pd.read_json(\"./demo_data/alluvial_diagram_data.json\")"
   ]
  },
  {
   "cell_type": "code",
   "execution_count": null,
   "id": "415f09dc",
   "metadata": {
    "scrolled": true
   },
   "outputs": [],
   "source": [
    "vcc.BarChart(\n",
    "    accessibility={\n",
    "        \"purpose\": \"Demonstration of a bar chart built with VCC and minimal properties provided.\",\n",
    "        \"statisticalNotes\": \"This chart is using dummy data.\"\n",
    "    },\n",
    "    data=bar_chart_data,\n",
    "    ordinalAccessor=\"item\",\n",
    "    valueAccessor=\"value\"\n",
    ")"
   ]
  },
  {
   "cell_type": "code",
   "execution_count": null,
   "id": "219616fb-24cf-4b95-ab8a-f8b95aff4b96",
   "metadata": {},
   "outputs": [],
   "source": [
    "vcc.ClusteredBarChart(\n",
    "    accessibility={\n",
    "        \"purpose\": \"Demonstration of a clustered bar chart built with VCC and minimal properties provided.\",\n",
    "        \"statisticalNotes\": \"This chart is using dummy data.\"\n",
    "    },\n",
    "    data=clustered_bar_chart_data,\n",
    "    ordinalAccessor=\"item\",\n",
    "    valueAccessor=\"value\",\n",
    "    groupAccessor=\"year\"\n",
    ")"
   ]
  },
  {
   "cell_type": "code",
   "execution_count": null,
   "id": "ecf12d8a",
   "metadata": {},
   "outputs": [],
   "source": [
    "vcc.StackedBarChart(\n",
    "    accessibility={\n",
    "        \"purpose\": \"Demonstration of a stacked bar chart built with VCC and minimal properties provided.\",\n",
    "        \"statisticalNotes\": \"This chart is using dummy data.\"\n",
    "    },\n",
    "    data=stacked_bar_chart_data,\n",
    "    ordinalAccessor=\"category\",\n",
    "    valueAccessor=\"value\",\n",
    "    groupAccessor=\"date\"\n",
    ")"
   ]
  },
  {
   "cell_type": "code",
   "execution_count": null,
   "id": "9b9a0437-70ed-4ce2-947f-19c30a1507a7",
   "metadata": {},
   "outputs": [],
   "source": [
    "vcc.LineChart(\n",
    "    accessibility={\n",
    "        \"purpose\": \"Demonstration of a line chart built with VCC and minimal properties provided.\",\n",
    "        \"statisticalNotes\": \"This chart is using dummy data.\"\n",
    "    },\n",
    "    data=line_chart_data,\n",
    "    ordinalAccessor=\"date\",\n",
    "    valueAccessor=\"value\",\n",
    "    seriesAccessor=\"category\",\n",
    "    config={\n",
    "        \"hoverOpacity\": 0.25\n",
    "    }\n",
    ")"
   ]
  },
  {
   "cell_type": "code",
   "execution_count": null,
   "id": "694abe53",
   "metadata": {},
   "outputs": [],
   "source": [
    "vcc.PieChart(\n",
    "    accessibility={\n",
    "        \"purpose\": \"Demonstration of a pie chart built with VCC and minimal properties provided.\",\n",
    "        \"statisticalNotes\": \"This chart is using dummy data.\"\n",
    "    },\n",
    "    data=[\n",
    "        {\n",
    "            \"label\": \"Category A\",\n",
    "            \"value\": 3126000\n",
    "        },\n",
    "        {\n",
    "            \"label\": \"Others\",\n",
    "            \"value\": 4324500\n",
    "        }\n",
    "    ],\n",
    "    ordinalAccessor=\"label\",\n",
    "    valueAccessor=\"value\"\n",
    ")"
   ]
  },
  {
   "cell_type": "code",
   "execution_count": null,
   "id": "16f20818",
   "metadata": {},
   "outputs": [],
   "source": [
    "vcc.ScatterPlot(\n",
    "    accessibility={\n",
    "        \"purpose\": \"Demonstration of a scatter plot built with VCC and minimal properties provided.\",\n",
    "        \"statisticalNotes\": \"This chart is using dummy data.\"\n",
    "    },\n",
    "    data=scatter_plot_data,\n",
    "    xAccessor=\"num\",\n",
    "    yAccessor=\"value\",\n",
    "    groupAccessor=\"group\",\n",
    "    config={\n",
    "        \"showBaselineX\": False\n",
    "    }\n",
    ")"
   ]
  },
  {
   "cell_type": "code",
   "execution_count": null,
   "id": "fd87e21d",
   "metadata": {},
   "outputs": [],
   "source": [
    "vcc.HeatMap(\n",
    "    accessibility={\n",
    "        \"purpose\": \"Demonstration of a heat map built with VCC and minimal properties provided.\",\n",
    "        \"statisticalNotes\": \"This chart is using dummy data.\"\n",
    "    },\n",
    "    data=heat_map_data,\n",
    "    xAccessor=\"date\",\n",
    "    yAccessor=\"category\",\n",
    "    valueAccessor=\"value\",\n",
    "    config={\n",
    "        \"xAxis\": {\n",
    "            \"visible\": True,\n",
    "            \"label\": \"\",\n",
    "            \"format\": \"%m/%d\"\n",
    "        }\n",
    "    }\n",
    ")"
   ]
  },
  {
   "cell_type": "code",
   "execution_count": null,
   "id": "2ad2dab7",
   "metadata": {},
   "outputs": [],
   "source": [
    "vcc.CirclePacking(\n",
    "    accessibility={\n",
    "        \"purpose\": \"Demonstration of a circle packing built with VCC and minimal properties provided.\",\n",
    "        \"statisticalNotes\": \"This chart is using dummy data.\",\n",
    "        \"hideTextures\": True\n",
    "    },\n",
    "    data=circle_packing_data,\n",
    "    nodeAccessor=\"Type\",\n",
    "    parentAccessor=\"Country\",\n",
    "    sizeAccessor=\"value\",\n",
    "    config={\n",
    "        \"clickStyle\": {\n",
    "            \"color\": \"categorical_blue\",\n",
    "            \"stroke\": \"base_grey\",\n",
    "            \"strokeWidth\": 0.5,\n",
    "            \"dashed\": \"3 1\"\n",
    "        },\n",
    "        \"hoverStyle\": {\n",
    "            \"color\": \"sec_yellow\",\n",
    "            \"strokeWidth\": 1\n",
    "        }\n",
    "    }\n",
    ")"
   ]
  },
  {
   "cell_type": "code",
   "execution_count": null,
   "id": "b3e9a3b3",
   "metadata": {},
   "outputs": [],
   "source": [
    "vcc.ParallelPlot(\n",
    "    accessibility={\n",
    "        \"purpose\": \"Demonstration of a parallel plot built with VCC and minimal properties provided.\",\n",
    "        \"statisticalNotes\": \"This chart is using dummy data.\"\n",
    "    },\n",
    "    data=parallel_plot_data,\n",
    "    ordinalAccessor=\"group\",\n",
    "    valueAccessor=\"amount\",\n",
    "    seriesAccessor=\"filter\"\n",
    ")"
   ]
  },
  {
   "cell_type": "code",
   "execution_count": null,
   "id": "f4c036e1",
   "metadata": {},
   "outputs": [],
   "source": [
    "vcc.DumbbellPlot(\n",
    "    accessibility={\n",
    "        \"purpose\": \"Demonstration of a dumbbell plot built with VCC and minimal properties provided.\",\n",
    "        \"statisticalNotes\": \"This chart is using dummy data.\"\n",
    "    },\n",
    "    data=dumbbell_plot_data,\n",
    "    ordinalAccessor=\"date\",\n",
    "    valueAccessor=\"value\",\n",
    "    seriesAccessor=\"category\"\n",
    ")"
   ]
  },
  {
   "cell_type": "code",
   "execution_count": null,
   "id": "c7eceb7b",
   "metadata": {},
   "outputs": [],
   "source": [
    "vcc.WorldMap(\n",
    "    accessibility={\n",
    "        \"purpose\": \"Demonstration of a world map built with VCC and minimal properties provided.\",\n",
    "        \"statisticalNotes\": \"This chart is using dummy data.\"\n",
    "    },\n",
    "    data=world_map_data,\n",
    "    valueAccessor=\"Random Rate\",\n",
    "    joinAccessor=\"Country Code\",\n",
    "    joinNameAccessor=\"Name\"\n",
    ")"
   ]
  },
  {
   "cell_type": "code",
   "execution_count": null,
   "id": "fe509b5f",
   "metadata": {},
   "outputs": [],
   "source": [
    "vcc.AlluvialDiagram(\n",
    "    accessibility={\n",
    "        \"purpose\": \"Demonstration of a alluvial diagram built with VCC and minimal properties provided.\",\n",
    "        \"statisticalNotes\": \"This chart is using dummy data.\"\n",
    "    },\n",
    "    linkData=alluvial_diagram_data,\n",
    "    sourceAccessor=\"source\",\n",
    "    targetAccessor=\"target\",\n",
    "    valueAccessor=\"value\",\n",
    "    groupAccessor=\"group\",\n",
    "    config={\n",
    "        \"hoverOpacity\": 0.25,\n",
    "        \"linkConfig\": {\n",
    "            \"fillMode\": \"none\",\n",
    "            \"opacity\": 0.8,\n",
    "            \"visible\": True\n",
    "        },\n",
    "        \"interactionKeys\": [\"source\"]\n",
    "    }\n",
    ")"
   ]
  }
 ],
 "metadata": {
  "kernelspec": {
   "display_name": "Python 3 (ipykernel)",
   "language": "python",
   "name": "python3"
  },
  "language_info": {
   "codemirror_mode": {
    "name": "ipython",
    "version": 3
   },
   "file_extension": ".py",
   "mimetype": "text/x-python",
   "name": "python",
   "nbconvert_exporter": "python",
   "pygments_lexer": "ipython3",
   "version": "3.9.7"
  }
 },
 "nbformat": 4,
 "nbformat_minor": 5
}
